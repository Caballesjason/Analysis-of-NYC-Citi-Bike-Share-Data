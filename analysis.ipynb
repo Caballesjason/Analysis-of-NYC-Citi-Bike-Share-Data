{
 "cells": [
  {
   "cell_type": "code",
   "execution_count": 24,
   "id": "2878a94c-28c6-4333-9868-93396f97dc32",
   "metadata": {},
   "outputs": [],
   "source": [
    "# ---- LIBRARY IMPORTS ----\n",
    "import pandas as pd\n",
    "import datetime\n",
    "import requests\n",
    "from datetime import datetime\n",
    "from haversine import haversine\n",
    "import seaborn as sns\n",
    "import matplotlib.pyplot as plt\n",
    "import networkx as nx\n",
    "from collections import Counter"
   ]
  },
  {
   "cell_type": "code",
   "execution_count": 2,
   "id": "4f185f02-ef04-43ad-9f06-0dd20b58eccf",
   "metadata": {},
   "outputs": [],
   "source": [
    "# ---- Reading in datasets ----\n",
    "usecols = [index for index in range(1, 14)]\n",
    "dtype = {'ride_id': \"string\", 'rideable_type': \"string\", 'started_at': \"string\", 'ended_at': \"string\", 'start_station_name': \"string\",\n",
    "         'start_station_id': \"string\", 'end_station_name': \"string\", 'end_station_id': \"string\", 'start_lat': float,\n",
    "         'start_lng': float, 'end_lat': float, 'end_lng': float, 'member_casual': \"string\"}\n",
    "df = pd.read_csv('data/202407-citibike-tripdata_5.csv', usecols=usecols, dtype=dtype)"
   ]
  },
  {
   "cell_type": "code",
   "execution_count": 3,
   "id": "a975553b-9032-498e-81d1-f26b674d2cbc",
   "metadata": {},
   "outputs": [
    {
     "data": {
      "text/html": [
       "<div>\n",
       "<style scoped>\n",
       "    .dataframe tbody tr th:only-of-type {\n",
       "        vertical-align: middle;\n",
       "    }\n",
       "\n",
       "    .dataframe tbody tr th {\n",
       "        vertical-align: top;\n",
       "    }\n",
       "\n",
       "    .dataframe thead th {\n",
       "        text-align: right;\n",
       "    }\n",
       "</style>\n",
       "<table border=\"1\" class=\"dataframe\">\n",
       "  <thead>\n",
       "    <tr style=\"text-align: right;\">\n",
       "      <th></th>\n",
       "      <th>ride_id</th>\n",
       "      <th>rideable_type</th>\n",
       "      <th>started_at</th>\n",
       "      <th>ended_at</th>\n",
       "      <th>start_station_name</th>\n",
       "      <th>start_station_id</th>\n",
       "      <th>end_station_name</th>\n",
       "      <th>end_station_id</th>\n",
       "      <th>start_lat</th>\n",
       "      <th>start_lng</th>\n",
       "      <th>end_lat</th>\n",
       "      <th>end_lng</th>\n",
       "      <th>member_casual</th>\n",
       "    </tr>\n",
       "  </thead>\n",
       "  <tbody>\n",
       "    <tr>\n",
       "      <th>0</th>\n",
       "      <td>557426B1CE207702</td>\n",
       "      <td>electric_bike</td>\n",
       "      <td>2024-07-17 19:30:15.471</td>\n",
       "      <td>2024-07-17 19:34:22.646</td>\n",
       "      <td>Sullivan St &amp; Washington Sq</td>\n",
       "      <td>5721.01</td>\n",
       "      <td>E 12 St &amp; 3 Ave</td>\n",
       "      <td>5788.12</td>\n",
       "      <td>40.730477</td>\n",
       "      <td>-73.999061</td>\n",
       "      <td>40.732233</td>\n",
       "      <td>-73.988900</td>\n",
       "      <td>member</td>\n",
       "    </tr>\n",
       "    <tr>\n",
       "      <th>1</th>\n",
       "      <td>A60E366FEE8B51E8</td>\n",
       "      <td>electric_bike</td>\n",
       "      <td>2024-07-15 19:17:52.523</td>\n",
       "      <td>2024-07-15 19:25:24.399</td>\n",
       "      <td>Sullivan St &amp; Washington Sq</td>\n",
       "      <td>5721.01</td>\n",
       "      <td>Forsyth St &amp; Grand St</td>\n",
       "      <td>5382.07</td>\n",
       "      <td>40.730477</td>\n",
       "      <td>-73.999061</td>\n",
       "      <td>40.717798</td>\n",
       "      <td>-73.993161</td>\n",
       "      <td>member</td>\n",
       "    </tr>\n",
       "    <tr>\n",
       "      <th>2</th>\n",
       "      <td>ACA30207F80B5DF9</td>\n",
       "      <td>classic_bike</td>\n",
       "      <td>2024-07-27 13:34:48.531</td>\n",
       "      <td>2024-07-27 13:49:55.913</td>\n",
       "      <td>W 37 St &amp; 10 Ave</td>\n",
       "      <td>6611.02</td>\n",
       "      <td>Perry St &amp; Bleecker St</td>\n",
       "      <td>5922.07</td>\n",
       "      <td>40.756604</td>\n",
       "      <td>-73.997901</td>\n",
       "      <td>40.735354</td>\n",
       "      <td>-74.004831</td>\n",
       "      <td>member</td>\n",
       "    </tr>\n",
       "    <tr>\n",
       "      <th>3</th>\n",
       "      <td>B3A138C956E9A729</td>\n",
       "      <td>electric_bike</td>\n",
       "      <td>2024-07-23 11:01:36.895</td>\n",
       "      <td>2024-07-23 11:06:02.796</td>\n",
       "      <td>Melrose St &amp; Broadway</td>\n",
       "      <td>4801.04</td>\n",
       "      <td>Nostrand Ave &amp; Myrtle Ave</td>\n",
       "      <td>4707.04</td>\n",
       "      <td>40.697481</td>\n",
       "      <td>-73.935877</td>\n",
       "      <td>40.695270</td>\n",
       "      <td>-73.952381</td>\n",
       "      <td>member</td>\n",
       "    </tr>\n",
       "    <tr>\n",
       "      <th>4</th>\n",
       "      <td>EA0BFE3B299B0672</td>\n",
       "      <td>electric_bike</td>\n",
       "      <td>2024-07-16 19:19:15.034</td>\n",
       "      <td>2024-07-16 19:50:39.140</td>\n",
       "      <td>Melrose St &amp; Broadway</td>\n",
       "      <td>4801.04</td>\n",
       "      <td>W 27 St &amp; 7 Ave</td>\n",
       "      <td>6257.06</td>\n",
       "      <td>40.697481</td>\n",
       "      <td>-73.935877</td>\n",
       "      <td>40.746650</td>\n",
       "      <td>-73.993920</td>\n",
       "      <td>member</td>\n",
       "    </tr>\n",
       "  </tbody>\n",
       "</table>\n",
       "</div>"
      ],
      "text/plain": [
       "            ride_id  rideable_type               started_at  \\\n",
       "0  557426B1CE207702  electric_bike  2024-07-17 19:30:15.471   \n",
       "1  A60E366FEE8B51E8  electric_bike  2024-07-15 19:17:52.523   \n",
       "2  ACA30207F80B5DF9   classic_bike  2024-07-27 13:34:48.531   \n",
       "3  B3A138C956E9A729  electric_bike  2024-07-23 11:01:36.895   \n",
       "4  EA0BFE3B299B0672  electric_bike  2024-07-16 19:19:15.034   \n",
       "\n",
       "                  ended_at           start_station_name start_station_id  \\\n",
       "0  2024-07-17 19:34:22.646  Sullivan St & Washington Sq          5721.01   \n",
       "1  2024-07-15 19:25:24.399  Sullivan St & Washington Sq          5721.01   \n",
       "2  2024-07-27 13:49:55.913             W 37 St & 10 Ave          6611.02   \n",
       "3  2024-07-23 11:06:02.796        Melrose St & Broadway          4801.04   \n",
       "4  2024-07-16 19:50:39.140        Melrose St & Broadway          4801.04   \n",
       "\n",
       "            end_station_name end_station_id  start_lat  start_lng    end_lat  \\\n",
       "0            E 12 St & 3 Ave        5788.12  40.730477 -73.999061  40.732233   \n",
       "1      Forsyth St & Grand St        5382.07  40.730477 -73.999061  40.717798   \n",
       "2     Perry St & Bleecker St        5922.07  40.756604 -73.997901  40.735354   \n",
       "3  Nostrand Ave & Myrtle Ave        4707.04  40.697481 -73.935877  40.695270   \n",
       "4            W 27 St & 7 Ave        6257.06  40.697481 -73.935877  40.746650   \n",
       "\n",
       "     end_lng member_casual  \n",
       "0 -73.988900        member  \n",
       "1 -73.993161        member  \n",
       "2 -74.004831        member  \n",
       "3 -73.952381        member  \n",
       "4 -73.993920        member  "
      ]
     },
     "execution_count": 3,
     "metadata": {},
     "output_type": "execute_result"
    }
   ],
   "source": [
    "df.head()"
   ]
  },
  {
   "cell_type": "markdown",
   "id": "274d987c-3c6a-4ec1-ae14-cd2253d74ea8",
   "metadata": {},
   "source": [
    "# Data Cleansing\n",
    "The following operations are required for data cleaning\n",
    "\n",
    "1. Encode `rideable_type` and `member_casual`\n",
    "2. Create fields for `start_date`, `start_time`, `end_date`, `end_time`\n",
    "3. Create field for trip duration\n",
    "4. Create distance between stations using the [Manhattan's Distance](https://www.datacamp.com/tutorial/manhattan-distance)\n",
    "5. Drop any rows with missing station IDs"
   ]
  },
  {
   "cell_type": "markdown",
   "id": "3d94eaf2-3fad-4626-8b1b-d14b01863782",
   "metadata": {},
   "source": [
    "## Encoding Binary Variables\n",
    "The `rideable_type` and `member_casual` fields will use dummy encoding using pandas' [`get_dummies`](https://pandas.pydata.org/docs/reference/api/pandas.get_dummies.html) method."
   ]
  },
  {
   "cell_type": "code",
   "execution_count": 4,
   "id": "c6ae3f97-5b90-44f2-b70f-24cf11588649",
   "metadata": {},
   "outputs": [],
   "source": [
    "df = pd.get_dummies(data=df, columns=['rideable_type', 'member_casual'], dtype=\"int\", drop_first=True)"
   ]
  },
  {
   "cell_type": "markdown",
   "id": "882a08ec-3c8f-49fe-9447-2c74799d4d58",
   "metadata": {},
   "source": [
    "## Drop any NA values\n",
    "We want to drop any values with `Null` for missing station IDs, names, ride IDs, coordinates or names because if any of them are `Null`, then we cannot understand what what on during a ride."
   ]
  },
  {
   "cell_type": "code",
   "execution_count": 5,
   "id": "f204dcf0-bb47-42fa-b992-1adc95bfb228",
   "metadata": {},
   "outputs": [],
   "source": [
    "df.dropna(subset=['ride_id', 'started_at', 'ended_at', 'start_station_name', 'start_station_id',\n",
    "                  'end_station_id', 'end_station_name', 'start_lat', 'end_lat', 'end_lng', 'end_lng'], inplace=True)"
   ]
  },
  {
   "cell_type": "markdown",
   "id": "d56c7b93-4f1b-4bdd-a61a-ec17eb640119",
   "metadata": {},
   "source": [
    "## Create fields for `start_date`, `start_time`, `end_date`, `end_time`"
   ]
  },
  {
   "cell_type": "code",
   "execution_count": 6,
   "id": "bd468df7-90bd-4f5f-b44a-eae4fff9286c",
   "metadata": {},
   "outputs": [],
   "source": [
    "df['started_at'] = pd.to_datetime(df['started_at'])\n",
    "df['ended_at'] = pd.to_datetime(df['ended_at'])\n",
    "date_map = lambda val: val.date()\n",
    "time_map = lambda val: val.time()\n",
    "df['start_date'] = df['started_at'].map(date_map)\n",
    "df['end_date'] = df['ended_at'].map(date_map)\n",
    "df['start_time'] =  df['started_at'].map(time_map)\n",
    "df['end_time'] = df['ended_at'].map(time_map)"
   ]
  },
  {
   "cell_type": "markdown",
   "id": "2fafcb2b-722e-4422-b3b7-9c07e049c0af",
   "metadata": {},
   "source": [
    "## Create field for trip_duration\n",
    "We will now create the `trip_duration` field that describes the trip duration "
   ]
  },
  {
   "cell_type": "code",
   "execution_count": 7,
   "id": "7176d452-2e7e-4c03-b9d4-41ab672976b0",
   "metadata": {},
   "outputs": [],
   "source": [
    "trip_duration = df['ended_at'] - df['started_at']\n",
    "get_trip_seconds = lambda val: val.total_seconds()\n",
    "df['trip_duration'] = trip_duration.map(get_trip_seconds)"
   ]
  },
  {
   "cell_type": "markdown",
   "id": "21adff24-5c0b-45d8-9d12-5eb9f7dd021b",
   "metadata": {},
   "source": [
    "## Get Distance Between All Stations\n",
    "We now will capture the distances between all stations using the [Haversine Distance](https://pypi.org/project/haversine/), in meters."
   ]
  },
  {
   "cell_type": "code",
   "execution_count": 8,
   "id": "3bb0964b-51b6-4f21-bd95-c958a1c8d63a",
   "metadata": {},
   "outputs": [],
   "source": [
    "def haversine_map(row):\n",
    "    start_coordinates = (row['start_lat'], row['start_lng'])\n",
    "    end_coordinates = (row['end_lat'], row['end_lng'])\n",
    "    dist = haversine(start_coordinates, end_coordinates, unit=\"m\")\n",
    "    return dist\n",
    "\n",
    "df['ride_dist'] = df.apply(haversine_map, axis=1)"
   ]
  },
  {
   "cell_type": "markdown",
   "id": "195d1f7a-e5bf-46b1-95dd-f4daaf7bd986",
   "metadata": {},
   "source": [
    "# Analyze, Model, and Visualize\n",
    "We aim to answer the below questions.\n",
    "\n",
    "1. Which stations have longer trip times on average?\n",
    "2. When are bikers most actively riding bikes?\n",
    "3. Which stations have the receive bikes from the most stations? Which stations send bikes to the most stations?\n",
    "4. Can we guess the trip time of a biker?\n",
    "\n"
   ]
  },
  {
   "cell_type": "markdown",
   "id": "6f7540a2-eb32-4a83-ad98-10607018509f",
   "metadata": {},
   "source": [
    "## Question One\n",
    "_Which stations have longer trip times on average?_\n",
    "<!-- https://automating-gis-processes.github.io/2017/lessons/L3/point-in-polygon.html -->"
   ]
  },
  {
   "cell_type": "code",
   "execution_count": 9,
   "id": "18d0d062-753d-4c49-a102-1572ab0ebcdf",
   "metadata": {},
   "outputs": [
    {
     "data": {
      "image/png": "[encoded data removed]",
      "text/plain": [
       "<Figure size 640x480 with 1 Axes>"
      ]
     },
     "metadata": {},
     "output_type": "display_data"
    }
   ],
   "source": [
    "colors_trip_times = ['orange', 'green', 'red', 'purple', 'brown', 'pink', 'gray', 'olive', 'cyan', 'blue']\n",
    "trip_time_plot = df[[\"start_station_id\", \"trip_duration\"]].groupby(by=\"start_station_id\").mean(\"trip_duration\").sort_values(by=\"trip_duration\", ascending=False).head(10).plot.bar(\n",
    "    y=\"trip_duration\", color=colors_trip_times, title=\"Top 10 Stations with the Highest Average Trip Time\", xlabel=\"Station ID\", ylabel=\"Trip Duration in Seconds\", rot=60, legend=False)\n",
    "trip_time_plot.get_figure().savefig(\"img/trip_time_graph.png\")"
   ]
  },
  {
   "cell_type": "markdown",
   "id": "e6ba892d-9bae-4376-9248-c0255382528b",
   "metadata": {},
   "source": [
    "## Question Two\n",
    "_When are bikers most actively riding bikes?_\n",
    "\n",
    "In order to find when bikers are most active, we will show categorize each ride's `start_time` field into morning, afternoon, evening, and night.  The hours of of these times of days are defined [here](https://www.britannica.com/dictionary/eb/qa/parts-of-the-day-early-morning-late-morning-etc)\n",
    "\n",
    "|Part of Day|Time Interval|\n",
    "|:---:|:---:|\n",
    "|Morning|05:00:00 - 11:59:59|\n",
    "|Afternoon|12:00:00 - 16:59:59|\n",
    "|Evening|17:00:00 - 20:59:59|\n",
    "|Night|21:00:00 - 04:59:59|"
   ]
  },
  {
   "cell_type": "code",
   "execution_count": 10,
   "id": "4e03d7f9-18ee-4165-8c2c-4357e2bb5f69",
   "metadata": {},
   "outputs": [],
   "source": [
    "def time_categorizer(row):\n",
    "    start_time = row['start_time']\n",
    "    hour = start_time.hour\n",
    "    if hour > 4 and hour < 12: \n",
    "        time_of_day = \"morning\"\n",
    "    elif hour > 11 and hour < 17:\n",
    "        time_of_day = \"afternoon\"\n",
    "    elif hour > 16 and hour < 21:\n",
    "        time_of_day = \"evening\"\n",
    "    else:\n",
    "        time_of_day = \"night\"\n",
    "    return time_of_day\n",
    "    \n",
    "df['time_of_day'] = df.apply(time_categorizer, axis=1)"
   ]
  },
  {
   "cell_type": "code",
   "execution_count": 11,
   "id": "9e138591-af36-4849-a507-8a72ea9babf2",
   "metadata": {},
   "outputs": [
    {
     "data": {
      "image/png": "[encoded data removed]",
      "text/plain": [
       "<Figure size 640x480 with 1 Axes>"
      ]
     },
     "metadata": {},
     "output_type": "display_data"
    }
   ],
   "source": [
    "time_of_day_counts = df['time_of_day'].value_counts()\n",
    "colors_time_of_day_counts = ['red', 'blue', 'green', 'purple']\n",
    "time_riders_ride_plot = time_of_day_counts.plot.bar(color=colors_time_of_day_counts, rot=0, title=\"Time Riders Ride Bikes\", xlabel=\"Time of Day\", ylabel=\"Number of Riders\")\n",
    "time_riders_ride_plot.get_figure().savefig(\"img/time_riders_ride_bike_graph.png\")"
   ]
  },
  {
   "cell_type": "markdown",
   "id": "6e1d8dc3-b796-429b-9e3e-467254720f21",
   "metadata": {},
   "source": [
    "## Question Three\n",
    "_Which stations have the receive bikes from the most stations?  Which stations send bikes to the most stations?_\n",
    "<!-- Get the in-degree and out-degree -->"
   ]
  },
  {
   "cell_type": "code",
   "execution_count": 54,
   "id": "3b700fe4-af9a-4b2a-bc39-dc9b5be5327a",
   "metadata": {},
   "outputs": [],
   "source": [
    "trips = df[[\"start_station_id\", \"end_station_id\"]].groupby([\"start_station_id\", \"end_station_id\"], as_index=False).value_counts()\n",
    "tuple_mapper = lambda row: (row[\"start_station_id\"], row[\"end_station_id\"], {\"trip_count\": row['count']})\n",
    "x = list(trips.apply(tuple_mapper, axis=1))"
   ]
  },
  {
   "cell_type": "code",
   "execution_count": 58,
   "id": "b1e0c425-d605-4c52-9120-08e1278004e1",
   "metadata": {
    "scrolled": true
   },
   "outputs": [],
   "source": [
    "g = nx.DiGraph()\n",
    "g.add_edges_from(x)"
   ]
  },
  {
   "cell_type": "code",
   "execution_count": 73,
   "id": "b114eeef-9555-432b-8be4-8d48e907f673",
   "metadata": {
    "scrolled": true
   },
   "outputs": [],
   "source": [
    "in_degrees = dict(g.in_degree())\n",
    "out_degrees = dict(g.out_degree())"
   ]
  },
  {
   "cell_type": "markdown",
   "id": "4d7008fc-babb-41a0-9d8e-7c24b7b4b529",
   "metadata": {},
   "source": [
    "## Question Four\n",
    "_Can we guess the trip time of a biker?_"
   ]
  },
  {
   "cell_type": "code",
   "execution_count": 67,
   "id": "6e7cf5e9-6a9e-4cf8-839b-902228fdcba3",
   "metadata": {},
   "outputs": [
    {
     "data": {
      "text/plain": [
       "2"
      ]
     },
     "execution_count": 67,
     "metadata": {},
     "output_type": "execute_result"
    }
   ],
   "source": [
    "G = nx.DiGraph()  # or MultiDiGraph\n",
    "nx.add_path(G, [0, 1, 2])\n",
    "G.degree(1)  # node 0 with degree 1\n",
    "# list(G.degree([0, 1, 2]))"
   ]
  },
  {
   "cell_type": "code",
   "execution_count": null,
   "id": "58c2f407-9282-42fe-94d9-60296592efb8",
   "metadata": {},
   "outputs": [],
   "source": []
  }
 ],
 "metadata": {
  "kernelspec": {
   "display_name": "Python 3 (ipykernel)",
   "language": "python",
   "name": "python3"
  },
  "language_info": {
   "codemirror_mode": {
    "name": "ipython",
    "version": 3
   },
   "file_extension": ".py",
   "mimetype": "text/x-python",
   "name": "python",
   "nbconvert_exporter": "python",
   "pygments_lexer": "ipython3",
   "version": "3.12.4"
  }
 },
 "nbformat": 4,
 "nbformat_minor": 5
}
